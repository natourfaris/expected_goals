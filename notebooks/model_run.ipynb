{
 "cells": [
  {
   "cell_type": "code",
   "execution_count": 1,
   "metadata": {},
   "outputs": [],
   "source": [
    "import pandas as pd\n",
    "import numpy as np\n",
    "from pyspark import SparkContext\n",
    "from pyspark.sql import SparkSession\n",
    "from pyspark.sql.types import (IntegerType,\n",
    " StringType,DecimalType,StructType,StructField,\n",
    " ArrayType,DoubleType,FloatType)\n",
    "import pyspark.sql.functions as func\n",
    "from pyspark.ml.feature import StringIndexer, OneHotEncoder, VectorAssembler\n",
    "from pyspark.ml.classification import LogisticRegression, LogisticRegressionModel\n",
    "from pyspark.ml import Pipeline\n",
    "import pyspark.ml.evaluation as evals\n",
    "from pyspark.ml.evaluation import Evaluator\n",
    "import pyspark.ml.tuning as tune\n",
    "from pyspark.ml.tuning import CrossValidator, ParamGridBuilder\n",
    "\n",
    "sc = SparkContext('local[*]')\n",
    "spark = SparkSession(sc)"
   ]
  },
  {
   "cell_type": "code",
   "execution_count": 2,
   "metadata": {},
   "outputs": [],
   "source": [
    "class BinaryLogLossEvaluator(Evaluator):\n",
    "    def __init__(self,predictionCol='probability',labelCol='label'):\n",
    "        self.predictionCol = predictionCol\n",
    "        self.labelCol = labelCol\n",
    "\n",
    "    def _get_probabilities(self,row):\n",
    "        return row[1].item()\n",
    "        \n",
    "    def _evaluate(self,dataset):\n",
    "        _udf_get_probabilities = func.udf(self._get_probabilities,FloatType())\n",
    "        dataset = dataset.withColumn('prob_1',_udf_get_probabilities(dataset.select(self.predictionCol)[0]))\n",
    "        \n",
    "        self.log_loss = (-1) * dataset.select(func.sum(dataset.select(self.labelCol)[0] \n",
    "                                                           * func.log(dataset.prob_1)\n",
    "                                                       + (1 - dataset.select(self.labelCol)[0])\n",
    "                                                           * func.log(1-dataset.prob_1)\n",
    "                                                      )\n",
    "                                             ).collect()[0][0]\n",
    "        \n",
    "        return self.log_loss\n",
    "    \n",
    "    \n",
    "    def isLargerBetter(self):\n",
    "        return False"
   ]
  },
  {
   "cell_type": "code",
   "execution_count": 36,
   "metadata": {},
   "outputs": [
    {
     "name": "stdout",
     "output_type": "stream",
     "text": [
      "0 shotID\n",
      "1 homeTeamCode\n",
      "2 awayTeamCode\n",
      "3 season\n",
      "4 isPlayoffGame\n",
      "5 game_id\n",
      "6 homeTeamWon\n",
      "7 id\n",
      "8 time\n",
      "9 timeUntilNextEvent\n",
      "10 timeSinceLastEvent\n",
      "11 period\n",
      "12 team\n",
      "13 location\n",
      "14 event\n",
      "15 goal\n",
      "16 shotPlayContinuedOutsideZone\n",
      "17 shotPlayContinuedInZone\n",
      "18 shotGoalieFroze\n",
      "19 shotPlayStopped\n",
      "20 shotGeneratedRebound\n",
      "21 homeTeamGoals\n",
      "22 awayTeamGoals\n",
      "23 xCord\n",
      "24 yCord\n",
      "25 xCordAdjusted\n",
      "26 yCordAdjusted\n",
      "27 shotAngle\n",
      "28 shotAngleAdjusted\n",
      "29 shotAnglePlusRebound\n",
      "30 shotAngleReboundRoyalRoad\n",
      "31 shotDistance\n",
      "32 shotType\n",
      "33 shotOnEmptyNet\n",
      "34 shotRebound\n",
      "35 shotAnglePlusReboundSpeed\n",
      "36 shotRush\n",
      "37 speedFromLastEvent\n",
      "38 lastEventxCord\n",
      "39 lastEventyCord\n",
      "40 distanceFromLastEvent\n",
      "41 lastEventShotAngle\n",
      "42 lastEventShotDistance\n",
      "43 lastEventCategory\n",
      "44 lastEventTeam\n",
      "45 homeEmptyNet\n",
      "46 awayEmptyNet\n",
      "47 homeSkatersOnIce\n",
      "48 awaySkatersOnIce\n",
      "49 awayPenalty1TimeLeft\n",
      "50 awayPenalty1Length\n",
      "51 homePenalty1TimeLeft\n",
      "52 homePenalty1Length\n",
      "53 playerPositionThatDidEvent\n",
      "54 playerNumThatDidEvent\n",
      "55 playerNumThatDidLastEvent\n",
      "56 lastEventxCord_adjusted\n",
      "57 lastEventyCord_adjusted\n",
      "58 timeSinceFaceoff\n",
      "59 goalieIdForShot\n",
      "60 goalieNameForShot\n",
      "61 shooterPlayerId\n",
      "62 shooterName\n",
      "63 shooterLeftRight\n",
      "64 shooterTimeOnIce\n",
      "65 shooterTimeOnIceSinceFaceoff\n",
      "66 shootingTeamForwardsOnIce\n",
      "67 shootingTeamDefencemenOnIce\n",
      "68 shootingTeamAverageTimeOnIce\n",
      "69 shootingTeamAverageTimeOnIceOfForwards\n",
      "70 shootingTeamAverageTimeOnIceOfDefencemen\n",
      "71 shootingTeamMaxTimeOnIce\n",
      "72 shootingTeamMaxTimeOnIceOfForwards\n",
      "73 shootingTeamMaxTimeOnIceOfDefencemen\n",
      "74 shootingTeamMinTimeOnIce\n",
      "75 shootingTeamMinTimeOnIceOfForwards\n",
      "76 shootingTeamMinTimeOnIceOfDefencemen\n",
      "77 shootingTeamAverageTimeOnIceSinceFaceoff\n",
      "78 shootingTeamAverageTimeOnIceOfForwardsSinceFaceoff\n",
      "79 shootingTeamAverageTimeOnIceOfDefencemenSinceFaceoff\n",
      "80 shootingTeamMaxTimeOnIceSinceFaceoff\n",
      "81 shootingTeamMaxTimeOnIceOfForwardsSinceFaceoff\n",
      "82 shootingTeamMaxTimeOnIceOfDefencemenSinceFaceoff\n",
      "83 shootingTeamMinTimeOnIceSinceFaceoff\n",
      "84 shootingTeamMinTimeOnIceOfForwardsSinceFaceoff\n",
      "85 shootingTeamMinTimeOnIceOfDefencemenSinceFaceoff\n",
      "86 defendingTeamForwardsOnIce\n",
      "87 defendingTeamDefencemenOnIce\n",
      "88 defendingTeamAverageTimeOnIce\n",
      "89 defendingTeamAverageTimeOnIceOfForwards\n",
      "90 defendingTeamAverageTimeOnIceOfDefencemen\n",
      "91 defendingTeamMaxTimeOnIce\n",
      "92 defendingTeamMaxTimeOnIceOfForwards\n",
      "93 defendingTeamMaxTimeOnIceOfDefencemen\n",
      "94 defendingTeamMinTimeOnIce\n",
      "95 defendingTeamMinTimeOnIceOfForwards\n",
      "96 defendingTeamMinTimeOnIceOfDefencemen\n",
      "97 defendingTeamAverageTimeOnIceSinceFaceoff\n",
      "98 defendingTeamAverageTimeOnIceOfForwardsSinceFaceoff\n",
      "99 defendingTeamAverageTimeOnIceOfDefencemenSinceFaceoff\n",
      "100 defendingTeamMaxTimeOnIceSinceFaceoff\n",
      "101 defendingTeamMaxTimeOnIceOfForwardsSinceFaceoff\n",
      "102 defendingTeamMaxTimeOnIceOfDefencemenSinceFaceoff\n",
      "103 defendingTeamMinTimeOnIceSinceFaceoff\n",
      "104 defendingTeamMinTimeOnIceOfForwardsSinceFaceoff\n",
      "105 defendingTeamMinTimeOnIceOfDefencemenSinceFaceoff\n",
      "106 offWing\n",
      "107 arenaAdjustedShotDistance\n",
      "108 arenaAdjustedXCord\n",
      "109 arenaAdjustedYCord\n",
      "110 arenaAdjustedYCordAbs\n",
      "111 timeDifferenceSinceChange\n",
      "112 averageRestDifference\n",
      "113 xGoal\n",
      "114 xFroze\n",
      "115 xRebound\n",
      "116 xPlayContinuedInZone\n",
      "117 xPlayContinuedOutsideZone\n",
      "118 xPlayStopped\n",
      "119 xShotWasOnGoal\n",
      "120 isHomeTeam\n",
      "121 shotWasOnGoal\n",
      "122 teamCode\n",
      "123 arenaAdjustedXCordABS\n"
     ]
    }
   ],
   "source": [
    "data_path = '../data/raw/shots_2007-2018.csv'\n",
    "\n",
    "sample = pd.read_csv(data_path,nrows=10)\n",
    "column_names = sample.columns\n",
    "\n",
    "schema = StructType([StructField(x,StringType(),True) for x in column_names])\n",
    "\n",
    "shots = spark.read.csv(data_path,schema=schema,\n",
    "                       enforceSchema=True,header=True,ignoreLeadingWhiteSpace=True,\n",
    "                       ignoreTrailingWhiteSpace=True)\n",
    "\n",
    "for ix,x in enumerate(column_names):\n",
    "    print(ix,x)"
   ]
  },
  {
   "cell_type": "code",
   "execution_count": 42,
   "metadata": {},
   "outputs": [
    {
     "ename": "AssertionError",
     "evalue": "",
     "output_type": "error",
     "traceback": [
      "\u001b[0;31m---------------------------------------------------------------------------\u001b[0m",
      "\u001b[0;31mAssertionError\u001b[0m                            Traceback (most recent call last)",
      "\u001b[0;32m<ipython-input-42-b5424abc4f07>\u001b[0m in \u001b[0;36m<module>\u001b[0;34m\u001b[0m\n\u001b[1;32m      5\u001b[0m                  'playerPositionEncoder']\n\u001b[1;32m      6\u001b[0m \u001b[0;34m\u001b[0m\u001b[0m\n\u001b[0;32m----> 7\u001b[0;31m \u001b[0;32massert\u001b[0m \u001b[0;32mFalse\u001b[0m\u001b[0;34m\u001b[0m\u001b[0;34m\u001b[0m\u001b[0m\n\u001b[0m\u001b[1;32m      8\u001b[0m \u001b[0;31m# make sure to implement data checks to make sure you're doing regression on \"proper\" data\u001b[0m\u001b[0;34m\u001b[0m\u001b[0;34m\u001b[0m\u001b[0;34m\u001b[0m\u001b[0m\n\u001b[1;32m      9\u001b[0m \u001b[0;31m# and won't get very wrong results\u001b[0m\u001b[0;34m\u001b[0m\u001b[0;34m\u001b[0m\u001b[0;34m\u001b[0m\u001b[0m\n",
      "\u001b[0;31mAssertionError\u001b[0m: "
     ]
    }
   ],
   "source": [
    "shots = shots.withColumn('skaterDifference',shots.homeSkatersOnIce - shots.awaySkatersOnIce)\n",
    "features_list = ['arenaAdjustedShotDistance','shotAngleAdjusted','shotRush','skaterDifference',\n",
    "                 'shotOnEmptyNet','shotRebound','offWing','shooterTimeOnIce',\n",
    "                 'averageRestDifference','timeDifferenceSinceChange','speedFromLastEvent',\n",
    "                 'playerPositionEncoder']\n",
    "\n",
    "assert False\n",
    "# make sure to implement data checks to make sure you're doing regression on \"proper\" data\n",
    "# and won't get very wrong results\n",
    "\n",
    "for col in features_list[:-1]:\n",
    "    shots = shots.withColumn(col,shots[str(col)].cast(DecimalType()))\n",
    "\n",
    "shots = shots.withColumn('goal',shots.goal.cast(IntegerType()))"
   ]
  },
  {
   "cell_type": "code",
   "execution_count": 64,
   "metadata": {},
   "outputs": [],
   "source": [
    "player_positions = shots.select('playerPositionThatDidEvent').distinct().collect()[:]\n",
    "\n",
    "player_indexer = StringIndexer(inputCol='playerPositionThatDidEvent',outputCol='playerPositionIndexer',handleInvalid='skip')\n",
    "player_encoder = OneHotEncoder(inputCol='playerPositionIndexer',outputCol='playerPositionEncoder')"
   ]
  },
  {
   "cell_type": "code",
   "execution_count": 71,
   "metadata": {},
   "outputs": [
    {
     "data": {
      "text/plain": [
       "[None, 'L', 'D', 'C', 'R', 'G']"
      ]
     },
     "execution_count": 71,
     "metadata": {},
     "output_type": "execute_result"
    }
   ],
   "source": [
    "[x[0] for x in player_positions]"
   ]
  },
  {
   "cell_type": "code",
   "execution_count": 32,
   "metadata": {},
   "outputs": [],
   "source": [
    "\n",
    "vector_assembler = VectorAssembler(inputCols=features_list,outputCol='features')\n",
    "pipeline = Pipeline(stages=[player_indexer,player_encoder,vector_assembler])\n",
    "\n",
    "piped_data = pipeline.fit(shots).transform(shots)\n",
    "training, test = piped_data.randomSplit([0.7,0.3])\n",
    "lr = LogisticRegression(labelCol='goal')\n",
    "\n",
    "best_lr = lr.fit(training)\n",
    "test_results = best_lr.transform(test)\n",
    "# best_lr.write().overwrite().save('models/result_lr')\n",
    "\n",
    "# best_lr = LogisticRegressionModel.load('../models/result_lr')"
   ]
  },
  {
   "cell_type": "code",
   "execution_count": null,
   "metadata": {},
   "outputs": [],
   "source": [
    "best_lr.write().overwrite().save('models/result_lr')"
   ]
  },
  {
   "cell_type": "code",
   "execution_count": 8,
   "metadata": {},
   "outputs": [],
   "source": [
    "# lr = LogisticRegression(labelCol='goal')\n",
    "# evaluator = BinaryLogLossEvaluator(labelCol='goal')\n",
    "# grid = (ParamGridBuilder()\n",
    "#            .addGrid(lr.regParam,[0,0.001,0.01,0.1])\n",
    "#            .addGrid(lr.elasticNetParam,[0,0.5,1])\n",
    "#            .build())\n",
    "# cv = CrossValidator(estimator=lr,\n",
    "#                    estimatorParamMaps=grid,\n",
    "#                     evaluator=evaluator)\n",
    "\n",
    "# models = cv.fit(training)\n",
    "# cv_best_lr = models.bestModel\n",
    "# cv_best_lr.write().overwrite().save('models/cv_best_lr')\n",
    "\n",
    "cv_best_lr = LogisticRegressionModel.load('../models/cv_best_lr')"
   ]
  },
  {
   "cell_type": "code",
   "execution_count": 9,
   "metadata": {},
   "outputs": [
    {
     "data": {
      "text/plain": [
       "{Param(parent='LogisticRegression_4fa4ec7f1bb1', name='aggregationDepth', doc='suggested depth for treeAggregate (>= 2)'): 2,\n",
       " Param(parent='LogisticRegression_4fa4ec7f1bb1', name='family', doc='The name of family which is a description of the label distribution to be used in the model. Supported options: auto, binomial, multinomial.'): 'auto',\n",
       " Param(parent='LogisticRegression_4fa4ec7f1bb1', name='featuresCol', doc='features column name'): 'features',\n",
       " Param(parent='LogisticRegression_4fa4ec7f1bb1', name='fitIntercept', doc='whether to fit an intercept term'): True,\n",
       " Param(parent='LogisticRegression_4fa4ec7f1bb1', name='maxIter', doc='maximum number of iterations (>= 0)'): 100,\n",
       " Param(parent='LogisticRegression_4fa4ec7f1bb1', name='predictionCol', doc='prediction column name'): 'prediction',\n",
       " Param(parent='LogisticRegression_4fa4ec7f1bb1', name='probabilityCol', doc='Column name for predicted class conditional probabilities. Note: Not all models output well-calibrated probability estimates! These probabilities should be treated as confidences, not precise probabilities'): 'probability',\n",
       " Param(parent='LogisticRegression_4fa4ec7f1bb1', name='rawPredictionCol', doc='raw prediction (a.k.a. confidence) column name'): 'rawPrediction',\n",
       " Param(parent='LogisticRegression_4fa4ec7f1bb1', name='standardization', doc='whether to standardize the training features before fitting the model'): True,\n",
       " Param(parent='LogisticRegression_4fa4ec7f1bb1', name='threshold', doc='threshold in binary classification prediction, in range [0, 1]'): 0.5,\n",
       " Param(parent='LogisticRegression_4fa4ec7f1bb1', name='tol', doc='the convergence tolerance for iterative algorithms (>= 0)'): 1e-06,\n",
       " Param(parent='LogisticRegression_4fa4ec7f1bb1', name='elasticNetParam', doc='the ElasticNet mixing parameter, in range [0, 1]. For alpha = 0, the penalty is an L2 penalty. For alpha = 1, it is an L1 penalty'): 0.0,\n",
       " Param(parent='LogisticRegression_4fa4ec7f1bb1', name='labelCol', doc='label column name'): 'goal',\n",
       " Param(parent='LogisticRegression_4fa4ec7f1bb1', name='regParam', doc='regularization parameter (>= 0)'): 0.0}"
      ]
     },
     "execution_count": 9,
     "metadata": {},
     "output_type": "execute_result"
    }
   ],
   "source": [
    "cv_best_lr.extractParamMap()"
   ]
  },
  {
   "cell_type": "code",
   "execution_count": 10,
   "metadata": {},
   "outputs": [
    {
     "name": "stdout",
     "output_type": "stream",
     "text": [
      "['arenaAdjustedShotDistance', 'shotAngleAdjusted', 'shotRush', 'skaterDifference', 'shotOnEmptyNet', 'shotRebound', 'offWing', 'shooterTimeOnIce', 'averageRestDifference', 'timeDifferenceSinceChange', 'speedFromLastEvent', 'playerPositionEncoder']\n",
      "[-0.043571159252612054,-0.01517419364720867,0.23853285279188827,0.00760283923304499,4.232534437738093,0.8447489468464554,0.04985917942448185,0.0018669528647201152,0.0011726283756016117,0.002595781833321914,0.010084269863482676,4.5217493084009694,4.558117642433642,4.530295873782485,4.517759732078638]\n",
      "[-0.043531216292313865,-0.015189184260977073,0.19020529731797944,0.007439194617935236,4.237498106492696,0.8613774410298074,0.051011760328185156,0.0018805678149342267,0.001872806470126273,0.0018397470146465855,0.01048536243130829,3.718653023623734,3.756539395801524,3.7325618709825643,3.7079601190479052]\n"
     ]
    }
   ],
   "source": [
    "print(features_list)\n",
    "print(best_lr.coefficients)\n",
    "print(cv_best_lr.coefficients)"
   ]
  },
  {
   "cell_type": "code",
   "execution_count": 22,
   "metadata": {},
   "outputs": [
    {
     "ename": "ValueError",
     "evalue": "12 columns passed, passed data had 15 columns",
     "output_type": "error",
     "traceback": [
      "\u001b[0;31m---------------------------------------------------------------------------\u001b[0m",
      "\u001b[0;31mAssertionError\u001b[0m                            Traceback (most recent call last)",
      "\u001b[0;32m~/anaconda3/envs/retailProject/lib/python3.7/site-packages/pandas/core/internals/construction.py\u001b[0m in \u001b[0;36m_list_to_arrays\u001b[0;34m(data, columns, coerce_float, dtype)\u001b[0m\n\u001b[1;32m    499\u001b[0m         result = _convert_object_array(\n\u001b[0;32m--> 500\u001b[0;31m             \u001b[0mcontent\u001b[0m\u001b[0;34m,\u001b[0m \u001b[0mcolumns\u001b[0m\u001b[0;34m,\u001b[0m \u001b[0mdtype\u001b[0m\u001b[0;34m=\u001b[0m\u001b[0mdtype\u001b[0m\u001b[0;34m,\u001b[0m \u001b[0mcoerce_float\u001b[0m\u001b[0;34m=\u001b[0m\u001b[0mcoerce_float\u001b[0m\u001b[0;34m\u001b[0m\u001b[0;34m\u001b[0m\u001b[0m\n\u001b[0m\u001b[1;32m    501\u001b[0m         )\n",
      "\u001b[0;32m~/anaconda3/envs/retailProject/lib/python3.7/site-packages/pandas/core/internals/construction.py\u001b[0m in \u001b[0;36m_convert_object_array\u001b[0;34m(content, columns, coerce_float, dtype)\u001b[0m\n\u001b[1;32m    582\u001b[0m                 \u001b[0;34m\"{col:d} columns passed, passed data had \"\u001b[0m\u001b[0;34m\u001b[0m\u001b[0;34m\u001b[0m\u001b[0m\n\u001b[0;32m--> 583\u001b[0;31m                 \u001b[0;34m\"{con} columns\"\u001b[0m\u001b[0;34m.\u001b[0m\u001b[0mformat\u001b[0m\u001b[0;34m(\u001b[0m\u001b[0mcol\u001b[0m\u001b[0;34m=\u001b[0m\u001b[0mlen\u001b[0m\u001b[0;34m(\u001b[0m\u001b[0mcolumns\u001b[0m\u001b[0;34m)\u001b[0m\u001b[0;34m,\u001b[0m \u001b[0mcon\u001b[0m\u001b[0;34m=\u001b[0m\u001b[0mlen\u001b[0m\u001b[0;34m(\u001b[0m\u001b[0mcontent\u001b[0m\u001b[0;34m)\u001b[0m\u001b[0;34m)\u001b[0m\u001b[0;34m\u001b[0m\u001b[0;34m\u001b[0m\u001b[0m\n\u001b[0m\u001b[1;32m    584\u001b[0m             )\n",
      "\u001b[0;31mAssertionError\u001b[0m: 12 columns passed, passed data had 15 columns",
      "\nThe above exception was the direct cause of the following exception:\n",
      "\u001b[0;31mValueError\u001b[0m                                Traceback (most recent call last)",
      "\u001b[0;32m<ipython-input-22-6d3542dca553>\u001b[0m in \u001b[0;36m<module>\u001b[0;34m\u001b[0m\n\u001b[0;32m----> 1\u001b[0;31m \u001b[0mpd\u001b[0m\u001b[0;34m.\u001b[0m\u001b[0mDataFrame\u001b[0m\u001b[0;34m.\u001b[0m\u001b[0mfrom_dict\u001b[0m\u001b[0;34m(\u001b[0m\u001b[0;34m{\u001b[0m\u001b[0;34m'no cv'\u001b[0m\u001b[0;34m:\u001b[0m\u001b[0mbest_lr\u001b[0m\u001b[0;34m.\u001b[0m\u001b[0mcoefficients\u001b[0m\u001b[0;34m.\u001b[0m\u001b[0mtoArray\u001b[0m\u001b[0;34m(\u001b[0m\u001b[0;34m)\u001b[0m\u001b[0;34m,\u001b[0m\u001b[0;34m'with cv'\u001b[0m\u001b[0;34m:\u001b[0m\u001b[0mcv_best_lr\u001b[0m\u001b[0;34m.\u001b[0m\u001b[0mcoefficients\u001b[0m\u001b[0;34m.\u001b[0m\u001b[0mtoArray\u001b[0m\u001b[0;34m(\u001b[0m\u001b[0;34m)\u001b[0m\u001b[0;34m}\u001b[0m\u001b[0;34m,\u001b[0m\u001b[0mcolumns\u001b[0m\u001b[0;34m=\u001b[0m\u001b[0mfeatures_list\u001b[0m\u001b[0;34m,\u001b[0m\u001b[0morient\u001b[0m\u001b[0;34m=\u001b[0m\u001b[0;34m'index'\u001b[0m\u001b[0;34m)\u001b[0m\u001b[0;34m\u001b[0m\u001b[0;34m\u001b[0m\u001b[0m\n\u001b[0m",
      "\u001b[0;32m~/anaconda3/envs/retailProject/lib/python3.7/site-packages/pandas/core/frame.py\u001b[0m in \u001b[0;36mfrom_dict\u001b[0;34m(cls, data, orient, dtype, columns)\u001b[0m\n\u001b[1;32m   1203\u001b[0m             \u001b[0;32mraise\u001b[0m \u001b[0mValueError\u001b[0m\u001b[0;34m(\u001b[0m\u001b[0;34m\"only recognize index or columns for orient\"\u001b[0m\u001b[0;34m)\u001b[0m\u001b[0;34m\u001b[0m\u001b[0;34m\u001b[0m\u001b[0m\n\u001b[1;32m   1204\u001b[0m \u001b[0;34m\u001b[0m\u001b[0m\n\u001b[0;32m-> 1205\u001b[0;31m         \u001b[0;32mreturn\u001b[0m \u001b[0mcls\u001b[0m\u001b[0;34m(\u001b[0m\u001b[0mdata\u001b[0m\u001b[0;34m,\u001b[0m \u001b[0mindex\u001b[0m\u001b[0;34m=\u001b[0m\u001b[0mindex\u001b[0m\u001b[0;34m,\u001b[0m \u001b[0mcolumns\u001b[0m\u001b[0;34m=\u001b[0m\u001b[0mcolumns\u001b[0m\u001b[0;34m,\u001b[0m \u001b[0mdtype\u001b[0m\u001b[0;34m=\u001b[0m\u001b[0mdtype\u001b[0m\u001b[0;34m)\u001b[0m\u001b[0;34m\u001b[0m\u001b[0;34m\u001b[0m\u001b[0m\n\u001b[0m\u001b[1;32m   1206\u001b[0m \u001b[0;34m\u001b[0m\u001b[0m\n\u001b[1;32m   1207\u001b[0m     \u001b[0;32mdef\u001b[0m \u001b[0mto_numpy\u001b[0m\u001b[0;34m(\u001b[0m\u001b[0mself\u001b[0m\u001b[0;34m,\u001b[0m \u001b[0mdtype\u001b[0m\u001b[0;34m=\u001b[0m\u001b[0;32mNone\u001b[0m\u001b[0;34m,\u001b[0m \u001b[0mcopy\u001b[0m\u001b[0;34m=\u001b[0m\u001b[0;32mFalse\u001b[0m\u001b[0;34m)\u001b[0m\u001b[0;34m:\u001b[0m\u001b[0;34m\u001b[0m\u001b[0;34m\u001b[0m\u001b[0m\n",
      "\u001b[0;32m~/anaconda3/envs/retailProject/lib/python3.7/site-packages/pandas/core/frame.py\u001b[0m in \u001b[0;36m__init__\u001b[0;34m(self, data, index, columns, dtype, copy)\u001b[0m\n\u001b[1;32m    448\u001b[0m                     \u001b[0;32mif\u001b[0m \u001b[0mis_named_tuple\u001b[0m\u001b[0;34m(\u001b[0m\u001b[0mdata\u001b[0m\u001b[0;34m[\u001b[0m\u001b[0;36m0\u001b[0m\u001b[0;34m]\u001b[0m\u001b[0;34m)\u001b[0m \u001b[0;32mand\u001b[0m \u001b[0mcolumns\u001b[0m \u001b[0;32mis\u001b[0m \u001b[0;32mNone\u001b[0m\u001b[0;34m:\u001b[0m\u001b[0;34m\u001b[0m\u001b[0;34m\u001b[0m\u001b[0m\n\u001b[1;32m    449\u001b[0m                         \u001b[0mcolumns\u001b[0m \u001b[0;34m=\u001b[0m \u001b[0mdata\u001b[0m\u001b[0;34m[\u001b[0m\u001b[0;36m0\u001b[0m\u001b[0;34m]\u001b[0m\u001b[0;34m.\u001b[0m\u001b[0m_fields\u001b[0m\u001b[0;34m\u001b[0m\u001b[0;34m\u001b[0m\u001b[0m\n\u001b[0;32m--> 450\u001b[0;31m                     \u001b[0marrays\u001b[0m\u001b[0;34m,\u001b[0m \u001b[0mcolumns\u001b[0m \u001b[0;34m=\u001b[0m \u001b[0mto_arrays\u001b[0m\u001b[0;34m(\u001b[0m\u001b[0mdata\u001b[0m\u001b[0;34m,\u001b[0m \u001b[0mcolumns\u001b[0m\u001b[0;34m,\u001b[0m \u001b[0mdtype\u001b[0m\u001b[0;34m=\u001b[0m\u001b[0mdtype\u001b[0m\u001b[0;34m)\u001b[0m\u001b[0;34m\u001b[0m\u001b[0;34m\u001b[0m\u001b[0m\n\u001b[0m\u001b[1;32m    451\u001b[0m                     \u001b[0mcolumns\u001b[0m \u001b[0;34m=\u001b[0m \u001b[0mensure_index\u001b[0m\u001b[0;34m(\u001b[0m\u001b[0mcolumns\u001b[0m\u001b[0;34m)\u001b[0m\u001b[0;34m\u001b[0m\u001b[0;34m\u001b[0m\u001b[0m\n\u001b[1;32m    452\u001b[0m \u001b[0;34m\u001b[0m\u001b[0m\n",
      "\u001b[0;32m~/anaconda3/envs/retailProject/lib/python3.7/site-packages/pandas/core/internals/construction.py\u001b[0m in \u001b[0;36mto_arrays\u001b[0;34m(data, columns, coerce_float, dtype)\u001b[0m\n\u001b[1;32m    486\u001b[0m         \u001b[0;31m# last ditch effort\u001b[0m\u001b[0;34m\u001b[0m\u001b[0;34m\u001b[0m\u001b[0;34m\u001b[0m\u001b[0m\n\u001b[1;32m    487\u001b[0m         \u001b[0mdata\u001b[0m \u001b[0;34m=\u001b[0m \u001b[0;34m[\u001b[0m\u001b[0mtuple\u001b[0m\u001b[0;34m(\u001b[0m\u001b[0mx\u001b[0m\u001b[0;34m)\u001b[0m \u001b[0;32mfor\u001b[0m \u001b[0mx\u001b[0m \u001b[0;32min\u001b[0m \u001b[0mdata\u001b[0m\u001b[0;34m]\u001b[0m\u001b[0;34m\u001b[0m\u001b[0;34m\u001b[0m\u001b[0m\n\u001b[0;32m--> 488\u001b[0;31m         \u001b[0;32mreturn\u001b[0m \u001b[0m_list_to_arrays\u001b[0m\u001b[0;34m(\u001b[0m\u001b[0mdata\u001b[0m\u001b[0;34m,\u001b[0m \u001b[0mcolumns\u001b[0m\u001b[0;34m,\u001b[0m \u001b[0mcoerce_float\u001b[0m\u001b[0;34m=\u001b[0m\u001b[0mcoerce_float\u001b[0m\u001b[0;34m,\u001b[0m \u001b[0mdtype\u001b[0m\u001b[0;34m=\u001b[0m\u001b[0mdtype\u001b[0m\u001b[0;34m)\u001b[0m\u001b[0;34m\u001b[0m\u001b[0;34m\u001b[0m\u001b[0m\n\u001b[0m\u001b[1;32m    489\u001b[0m \u001b[0;34m\u001b[0m\u001b[0m\n\u001b[1;32m    490\u001b[0m \u001b[0;34m\u001b[0m\u001b[0m\n",
      "\u001b[0;32m~/anaconda3/envs/retailProject/lib/python3.7/site-packages/pandas/core/internals/construction.py\u001b[0m in \u001b[0;36m_list_to_arrays\u001b[0;34m(data, columns, coerce_float, dtype)\u001b[0m\n\u001b[1;32m    501\u001b[0m         )\n\u001b[1;32m    502\u001b[0m     \u001b[0;32mexcept\u001b[0m \u001b[0mAssertionError\u001b[0m \u001b[0;32mas\u001b[0m \u001b[0me\u001b[0m\u001b[0;34m:\u001b[0m\u001b[0;34m\u001b[0m\u001b[0;34m\u001b[0m\u001b[0m\n\u001b[0;32m--> 503\u001b[0;31m         \u001b[0;32mraise\u001b[0m \u001b[0mValueError\u001b[0m\u001b[0;34m(\u001b[0m\u001b[0me\u001b[0m\u001b[0;34m)\u001b[0m \u001b[0;32mfrom\u001b[0m \u001b[0me\u001b[0m\u001b[0;34m\u001b[0m\u001b[0;34m\u001b[0m\u001b[0m\n\u001b[0m\u001b[1;32m    504\u001b[0m     \u001b[0;32mreturn\u001b[0m \u001b[0mresult\u001b[0m\u001b[0;34m\u001b[0m\u001b[0;34m\u001b[0m\u001b[0m\n\u001b[1;32m    505\u001b[0m \u001b[0;34m\u001b[0m\u001b[0m\n",
      "\u001b[0;31mValueError\u001b[0m: 12 columns passed, passed data had 15 columns"
     ]
    }
   ],
   "source": [
    "pd.DataFrame.from_dict({'no cv':best_lr.coefficients.toArray(),'with cv':cv_best_lr.coefficients.toArray()},columns=features_list,orient='index')"
   ]
  },
  {
   "cell_type": "code",
   "execution_count": 58,
   "metadata": {},
   "outputs": [
    {
     "data": {
      "text/plain": [
       "False"
      ]
     },
     "execution_count": 58,
     "metadata": {},
     "output_type": "execute_result"
    }
   ],
   "source": [
    "player_indexer.isSet('stringOrderType')"
   ]
  },
  {
   "cell_type": "code",
   "execution_count": 23,
   "metadata": {},
   "outputs": [
    {
     "data": {
      "text/plain": [
       "array([-4.35711593e-02, -1.51741936e-02,  2.38532853e-01,  7.60283923e-03,\n",
       "        4.23253444e+00,  8.44748947e-01,  4.98591794e-02,  1.86695286e-03,\n",
       "        1.17262838e-03,  2.59578183e-03,  1.00842699e-02,  4.52174931e+00,\n",
       "        4.55811764e+00,  4.53029587e+00,  4.51775973e+00])"
      ]
     },
     "execution_count": 23,
     "metadata": {},
     "output_type": "execute_result"
    }
   ],
   "source": [
    "best_lr.coefficients.toArray()"
   ]
  },
  {
   "cell_type": "code",
   "execution_count": 33,
   "metadata": {},
   "outputs": [
    {
     "data": {
      "text/plain": [
       "array([-4.37052959e-02, -1.51133582e-02,  1.92735591e-01,  1.34854879e-02,\n",
       "        4.25616824e+00,  8.53215617e-01,  5.02196473e-02,  1.40036715e-03,\n",
       "        1.57791200e-03,  2.34539510e-03,  9.86072491e-03, -4.16310305e-02,\n",
       "       -1.41039507e-02, -3.60775491e-02, -5.29493568e-02])"
      ]
     },
     "execution_count": 33,
     "metadata": {},
     "output_type": "execute_result"
    }
   ],
   "source": [
    "best_lr.coefficients.toArray()"
   ]
  }
 ],
 "metadata": {
  "kernelspec": {
   "display_name": "Python [conda env:retailProject]",
   "language": "python",
   "name": "conda-env-retailProject-py"
  },
  "language_info": {
   "codemirror_mode": {
    "name": "ipython",
    "version": 3
   },
   "file_extension": ".py",
   "mimetype": "text/x-python",
   "name": "python",
   "nbconvert_exporter": "python",
   "pygments_lexer": "ipython3",
   "version": "3.7.5"
  }
 },
 "nbformat": 4,
 "nbformat_minor": 2
}
