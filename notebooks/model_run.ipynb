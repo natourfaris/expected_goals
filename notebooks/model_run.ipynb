{
 "cells": [
  {
   "cell_type": "code",
   "execution_count": 1,
   "metadata": {},
   "outputs": [],
   "source": [
    "import pandas as pd\n",
    "import numpy as np\n",
    "from pyspark import SparkContext\n",
    "from pyspark.sql import SparkSession\n",
    "from pyspark.sql.types import (IntegerType,\n",
    " StringType,DecimalType,StructType,StructField,\n",
    " ArrayType,DoubleType,FloatType)\n",
    "import pyspark.sql.functions as func\n",
    "from pyspark.ml.feature import (StringIndexer, \n",
    "                                OneHotEncoder,\n",
    "                                OneHotEncoderEstimator, \n",
    "                                VectorAssembler)\n",
    "from pyspark.ml.classification import (LogisticRegression, \n",
    "                                       LogisticRegressionModel, \n",
    "                                       DecisionTreeClassifier)\n",
    "from pyspark.ml import Pipeline\n",
    "import pyspark.ml.evaluation as evals\n",
    "from pyspark.ml.evaluation import Evaluator\n",
    "import pyspark.ml.tuning as tune\n",
    "from pyspark.ml.tuning import CrossValidator, ParamGridBuilder\n",
    "\n",
    "sc = SparkContext('local[*]')\n",
    "spark = SparkSession(sc)"
   ]
  },
  {
   "cell_type": "code",
   "execution_count": 52,
   "metadata": {},
   "outputs": [],
   "source": [
    "from pyspark.ml.classification import (RandomForestClassifier)"
   ]
  },
  {
   "cell_type": "code",
   "execution_count": 17,
   "metadata": {},
   "outputs": [],
   "source": [
    "class BinaryLogLossEvaluator(Evaluator):\n",
    "    def __init__(self,predictionCol='probability',labelCol='label'):\n",
    "        self.predictionCol = predictionCol\n",
    "        self.labelCol = labelCol\n",
    "\n",
    "    def _get_probabilities(self,row):\n",
    "        return row[1].item()\n",
    "        \n",
    "    def _evaluate(self,dataset):\n",
    "        _udf_get_probabilities = func.udf(self._get_probabilities,FloatType())\n",
    "        dataset = dataset.withColumn('prob_1',_udf_get_probabilities(dataset.select(self.predictionCol)[0]))\n",
    "        \n",
    "        self.log_loss = (-1) * dataset.select(func.sum(dataset.select(self.labelCol)[0] \n",
    "                                                           * func.log(dataset.prob_1)\n",
    "                                                       + (1 - dataset.select(self.labelCol)[0])\n",
    "                                                           * func.log(1-dataset.prob_1)\n",
    "                                                      )\n",
    "                                             ).collect()[0][0]\n",
    "        \n",
    "        return self.log_loss\n",
    "    \n",
    "    def isLargerBetter(self):\n",
    "        return False"
   ]
  },
  {
   "cell_type": "code",
   "execution_count": 2,
   "metadata": {},
   "outputs": [
    {
     "name": "stdout",
     "output_type": "stream",
     "text": [
      "0 shotID\n",
      "1 homeTeamCode\n",
      "2 awayTeamCode\n",
      "3 season\n",
      "4 isPlayoffGame\n",
      "5 game_id\n",
      "6 homeTeamWon\n",
      "7 id\n",
      "8 time\n",
      "9 timeUntilNextEvent\n",
      "10 timeSinceLastEvent\n",
      "11 period\n",
      "12 team\n",
      "13 location\n",
      "14 event\n",
      "15 goal\n",
      "16 shotPlayContinuedOutsideZone\n",
      "17 shotPlayContinuedInZone\n",
      "18 shotGoalieFroze\n",
      "19 shotPlayStopped\n",
      "20 shotGeneratedRebound\n",
      "21 homeTeamGoals\n",
      "22 awayTeamGoals\n",
      "23 xCord\n",
      "24 yCord\n",
      "25 xCordAdjusted\n",
      "26 yCordAdjusted\n",
      "27 shotAngle\n",
      "28 shotAngleAdjusted\n",
      "29 shotAnglePlusRebound\n",
      "30 shotAngleReboundRoyalRoad\n",
      "31 shotDistance\n",
      "32 shotType\n",
      "33 shotOnEmptyNet\n",
      "34 shotRebound\n",
      "35 shotAnglePlusReboundSpeed\n",
      "36 shotRush\n",
      "37 speedFromLastEvent\n",
      "38 lastEventxCord\n",
      "39 lastEventyCord\n",
      "40 distanceFromLastEvent\n",
      "41 lastEventShotAngle\n",
      "42 lastEventShotDistance\n",
      "43 lastEventCategory\n",
      "44 lastEventTeam\n",
      "45 homeEmptyNet\n",
      "46 awayEmptyNet\n",
      "47 homeSkatersOnIce\n",
      "48 awaySkatersOnIce\n",
      "49 awayPenalty1TimeLeft\n",
      "50 awayPenalty1Length\n",
      "51 homePenalty1TimeLeft\n",
      "52 homePenalty1Length\n",
      "53 playerPositionThatDidEvent\n",
      "54 playerNumThatDidEvent\n",
      "55 playerNumThatDidLastEvent\n",
      "56 lastEventxCord_adjusted\n",
      "57 lastEventyCord_adjusted\n",
      "58 timeSinceFaceoff\n",
      "59 goalieIdForShot\n",
      "60 goalieNameForShot\n",
      "61 shooterPlayerId\n",
      "62 shooterName\n",
      "63 shooterLeftRight\n",
      "64 shooterTimeOnIce\n",
      "65 shooterTimeOnIceSinceFaceoff\n",
      "66 shootingTeamForwardsOnIce\n",
      "67 shootingTeamDefencemenOnIce\n",
      "68 shootingTeamAverageTimeOnIce\n",
      "69 shootingTeamAverageTimeOnIceOfForwards\n",
      "70 shootingTeamAverageTimeOnIceOfDefencemen\n",
      "71 shootingTeamMaxTimeOnIce\n",
      "72 shootingTeamMaxTimeOnIceOfForwards\n",
      "73 shootingTeamMaxTimeOnIceOfDefencemen\n",
      "74 shootingTeamMinTimeOnIce\n",
      "75 shootingTeamMinTimeOnIceOfForwards\n",
      "76 shootingTeamMinTimeOnIceOfDefencemen\n",
      "77 shootingTeamAverageTimeOnIceSinceFaceoff\n",
      "78 shootingTeamAverageTimeOnIceOfForwardsSinceFaceoff\n",
      "79 shootingTeamAverageTimeOnIceOfDefencemenSinceFaceoff\n",
      "80 shootingTeamMaxTimeOnIceSinceFaceoff\n",
      "81 shootingTeamMaxTimeOnIceOfForwardsSinceFaceoff\n",
      "82 shootingTeamMaxTimeOnIceOfDefencemenSinceFaceoff\n",
      "83 shootingTeamMinTimeOnIceSinceFaceoff\n",
      "84 shootingTeamMinTimeOnIceOfForwardsSinceFaceoff\n",
      "85 shootingTeamMinTimeOnIceOfDefencemenSinceFaceoff\n",
      "86 defendingTeamForwardsOnIce\n",
      "87 defendingTeamDefencemenOnIce\n",
      "88 defendingTeamAverageTimeOnIce\n",
      "89 defendingTeamAverageTimeOnIceOfForwards\n",
      "90 defendingTeamAverageTimeOnIceOfDefencemen\n",
      "91 defendingTeamMaxTimeOnIce\n",
      "92 defendingTeamMaxTimeOnIceOfForwards\n",
      "93 defendingTeamMaxTimeOnIceOfDefencemen\n",
      "94 defendingTeamMinTimeOnIce\n",
      "95 defendingTeamMinTimeOnIceOfForwards\n",
      "96 defendingTeamMinTimeOnIceOfDefencemen\n",
      "97 defendingTeamAverageTimeOnIceSinceFaceoff\n",
      "98 defendingTeamAverageTimeOnIceOfForwardsSinceFaceoff\n",
      "99 defendingTeamAverageTimeOnIceOfDefencemenSinceFaceoff\n",
      "100 defendingTeamMaxTimeOnIceSinceFaceoff\n",
      "101 defendingTeamMaxTimeOnIceOfForwardsSinceFaceoff\n",
      "102 defendingTeamMaxTimeOnIceOfDefencemenSinceFaceoff\n",
      "103 defendingTeamMinTimeOnIceSinceFaceoff\n",
      "104 defendingTeamMinTimeOnIceOfForwardsSinceFaceoff\n",
      "105 defendingTeamMinTimeOnIceOfDefencemenSinceFaceoff\n",
      "106 offWing\n",
      "107 arenaAdjustedShotDistance\n",
      "108 arenaAdjustedXCord\n",
      "109 arenaAdjustedYCord\n",
      "110 arenaAdjustedYCordAbs\n",
      "111 timeDifferenceSinceChange\n",
      "112 averageRestDifference\n",
      "113 xGoal\n",
      "114 xFroze\n",
      "115 xRebound\n",
      "116 xPlayContinuedInZone\n",
      "117 xPlayContinuedOutsideZone\n",
      "118 xPlayStopped\n",
      "119 xShotWasOnGoal\n",
      "120 isHomeTeam\n",
      "121 shotWasOnGoal\n",
      "122 teamCode\n",
      "123 arenaAdjustedXCordABS\n"
     ]
    }
   ],
   "source": [
    "data_path = '../data/raw/shots_2007-2018.csv'\n",
    "\n",
    "sample = pd.read_csv(data_path,nrows=10)\n",
    "column_names = sample.columns\n",
    "\n",
    "schema = StructType([StructField(x,StringType(),True) for x in column_names])\n",
    "\n",
    "shots = spark.read.csv(data_path,schema=schema,\n",
    "                       enforceSchema=True,header=True,ignoreLeadingWhiteSpace=True,\n",
    "                       ignoreTrailingWhiteSpace=True)\n",
    "\n",
    "for ix,x in enumerate(column_names):\n",
    "    print(ix,x)"
   ]
  },
  {
   "cell_type": "code",
   "execution_count": 3,
   "metadata": {},
   "outputs": [],
   "source": [
    "shots = shots.withColumn('skaterDifference',shots.homeSkatersOnIce - shots.awaySkatersOnIce)\n",
    "features_list = ['arenaAdjustedShotDistance','shotAngleAdjusted','shotRush','skaterDifference',\n",
    "                 'shotOnEmptyNet','shotRebound','offWing','shooterTimeOnIce',\n",
    "                 'averageRestDifference','timeDifferenceSinceChange','speedFromLastEvent',\n",
    "                 'playerPositionEncoder']\n",
    "\n",
    "# assert False\n",
    "# make sure to implement data checks to make sure you're doing regression on \"proper\" data\n",
    "# and won't get very wrong results\n",
    "\n",
    "for col in features_list[:-1]:\n",
    "    shots = shots.withColumn(col,shots[str(col)].cast(DecimalType()))\n",
    "\n",
    "shots = shots.fillna('Aaa',subset=['playerPositionThatDidEvent'])\n",
    "# use Aaa for null values and then order the values alphabetically so that the\n",
    "# coefficients will show the differential of the player's position\n",
    "\n",
    "shots = shots.withColumn('goal',shots.goal.cast(IntegerType()))"
   ]
  },
  {
   "cell_type": "code",
   "execution_count": 4,
   "metadata": {},
   "outputs": [],
   "source": [
    "player_positions = shots.select('playerPositionThatDidEvent').distinct().collect()[:]\n",
    "player_positions = [x[0] for x in player_positions]\n",
    "\n",
    "player_indexer = StringIndexer(inputCol='playerPositionThatDidEvent',outputCol='playerPositionIndexer',\n",
    "                               handleInvalid='skip',stringOrderType='alphabetAsc')\n",
    "player_encoder = OneHotEncoderEstimator(inputCols=['playerPositionIndexer'],outputCols=['playerPositionEncoder'])"
   ]
  },
  {
   "cell_type": "code",
   "execution_count": 21,
   "metadata": {},
   "outputs": [],
   "source": [
    "vector_assembler = VectorAssembler(inputCols=features_list,outputCol='features')\n",
    "pipeline = Pipeline(stages=[player_indexer,player_encoder,vector_assembler])\n",
    "\n",
    "piped_data = pipeline.fit(shots).transform(shots)\n",
    "training, test = piped_data.randomSplit([0.7,0.3])\n",
    "lr = LogisticRegression(labelCol='goal')\n",
    "evaluator = BinaryLogLossEvaluator(labelCol='goal')\n",
    "grid = (ParamGridBuilder()\n",
    "           .addGrid(lr.regParam,[0,0.001,0.01,0.1])\n",
    "           .addGrid(lr.elasticNetParam,[0,0.5,1])\n",
    "           .build())\n",
    "cv = CrossValidator(estimator=lr,\n",
    "                   estimatorParamMaps=grid,\n",
    "                    evaluator=evaluator)\n",
    "\n",
    "models = cv.fit(training)\n",
    "cv_best_lr = models.bestModel\n",
    "cv_best_lr.write().overwrite().save('models/cv_best_lr')\n",
    "\n",
    "# cv_best_lr = LogisticRegressionModel.load('../models/cv_best_lr')"
   ]
  },
  {
   "cell_type": "code",
   "execution_count": 42,
   "metadata": {},
   "outputs": [],
   "source": [
    "vector_assembler = VectorAssembler(inputCols=features_list,outputCol='features')\n",
    "pipeline = Pipeline(stages=[player_indexer,player_encoder,vector_assembler])\n",
    "\n",
    "piped_data = pipeline.fit(shots).transform(shots)\n",
    "training, test = piped_data.randomSplit([0.7,0.3])\n",
    "dtc = DecisionTreeClassifier(labelCol='goal')\n",
    "\n",
    "best_dtc = dtc.fit(training)\n"
   ]
  },
  {
   "cell_type": "code",
   "execution_count": 57,
   "metadata": {},
   "outputs": [],
   "source": [
    "predictions = best_dtc.transform(test)\n",
    "evaluator = BinaryLogLossEvaluator(labelCol='goal')\n",
    "evaluator.evaluate(predictions)"
   ]
  },
  {
   "cell_type": "code",
   "execution_count": 48,
   "metadata": {},
   "outputs": [
    {
     "data": {
      "text/plain": [
       "82660.95925334083"
      ]
     },
     "execution_count": 48,
     "metadata": {},
     "output_type": "execute_result"
    }
   ],
   "source": [
    "predictions = LogisticRegression(labelCol='goal').fit(training).transform(test)\n",
    "BinaryLogLossEvaluator(labelCol='goal').evaluate(predictions)"
   ]
  },
  {
   "cell_type": "code",
   "execution_count": 53,
   "metadata": {},
   "outputs": [
    {
     "data": {
      "text/plain": [
       "86275.56688397292"
      ]
     },
     "execution_count": 53,
     "metadata": {},
     "output_type": "execute_result"
    }
   ],
   "source": [
    "predictions = RandomForestClassifier(labelCol='goal').fit(training).transform(test)\n",
    "BinaryLogLossEvaluator(labelCol='goal').evaluate(predictions)"
   ]
  },
  {
   "cell_type": "code",
   "execution_count": 51,
   "metadata": {},
   "outputs": [
    {
     "data": {
      "text/plain": [
       "['arenaAdjustedShotDistance',\n",
       " 'shotAngleAdjusted',\n",
       " 'shotRush',\n",
       " 'skaterDifference',\n",
       " 'shotOnEmptyNet',\n",
       " 'shotRebound',\n",
       " 'offWing',\n",
       " 'shooterTimeOnIce',\n",
       " 'averageRestDifference',\n",
       " 'timeDifferenceSinceChange',\n",
       " 'speedFromLastEvent',\n",
       " 'playerPositionEncoder']"
      ]
     },
     "execution_count": 51,
     "metadata": {},
     "output_type": "execute_result"
    }
   ],
   "source": [
    "features_list"
   ]
  },
  {
   "cell_type": "code",
   "execution_count": 44,
   "metadata": {},
   "outputs": [
    {
     "data": {
      "text/plain": [
       "['shotID',\n",
       " 'homeTeamCode',\n",
       " 'awayTeamCode',\n",
       " 'season',\n",
       " 'isPlayoffGame',\n",
       " 'game_id',\n",
       " 'homeTeamWon',\n",
       " 'id',\n",
       " 'time',\n",
       " 'timeUntilNextEvent',\n",
       " 'timeSinceLastEvent',\n",
       " 'period',\n",
       " 'team',\n",
       " 'location',\n",
       " 'event',\n",
       " 'goal',\n",
       " 'shotPlayContinuedOutsideZone',\n",
       " 'shotPlayContinuedInZone',\n",
       " 'shotGoalieFroze',\n",
       " 'shotPlayStopped',\n",
       " 'shotGeneratedRebound',\n",
       " 'homeTeamGoals',\n",
       " 'awayTeamGoals',\n",
       " 'xCord',\n",
       " 'yCord',\n",
       " 'xCordAdjusted',\n",
       " 'yCordAdjusted',\n",
       " 'shotAngle',\n",
       " 'shotAngleAdjusted',\n",
       " 'shotAnglePlusRebound',\n",
       " 'shotAngleReboundRoyalRoad',\n",
       " 'shotDistance',\n",
       " 'shotType',\n",
       " 'shotOnEmptyNet',\n",
       " 'shotRebound',\n",
       " 'shotAnglePlusReboundSpeed',\n",
       " 'shotRush',\n",
       " 'speedFromLastEvent',\n",
       " 'lastEventxCord',\n",
       " 'lastEventyCord',\n",
       " 'distanceFromLastEvent',\n",
       " 'lastEventShotAngle',\n",
       " 'lastEventShotDistance',\n",
       " 'lastEventCategory',\n",
       " 'lastEventTeam',\n",
       " 'homeEmptyNet',\n",
       " 'awayEmptyNet',\n",
       " 'homeSkatersOnIce',\n",
       " 'awaySkatersOnIce',\n",
       " 'awayPenalty1TimeLeft',\n",
       " 'awayPenalty1Length',\n",
       " 'homePenalty1TimeLeft',\n",
       " 'homePenalty1Length',\n",
       " 'playerPositionThatDidEvent',\n",
       " 'playerNumThatDidEvent',\n",
       " 'playerNumThatDidLastEvent',\n",
       " 'lastEventxCord_adjusted',\n",
       " 'lastEventyCord_adjusted',\n",
       " 'timeSinceFaceoff',\n",
       " 'goalieIdForShot',\n",
       " 'goalieNameForShot',\n",
       " 'shooterPlayerId',\n",
       " 'shooterName',\n",
       " 'shooterLeftRight',\n",
       " 'shooterTimeOnIce',\n",
       " 'shooterTimeOnIceSinceFaceoff',\n",
       " 'shootingTeamForwardsOnIce',\n",
       " 'shootingTeamDefencemenOnIce',\n",
       " 'shootingTeamAverageTimeOnIce',\n",
       " 'shootingTeamAverageTimeOnIceOfForwards',\n",
       " 'shootingTeamAverageTimeOnIceOfDefencemen',\n",
       " 'shootingTeamMaxTimeOnIce',\n",
       " 'shootingTeamMaxTimeOnIceOfForwards',\n",
       " 'shootingTeamMaxTimeOnIceOfDefencemen',\n",
       " 'shootingTeamMinTimeOnIce',\n",
       " 'shootingTeamMinTimeOnIceOfForwards',\n",
       " 'shootingTeamMinTimeOnIceOfDefencemen',\n",
       " 'shootingTeamAverageTimeOnIceSinceFaceoff',\n",
       " 'shootingTeamAverageTimeOnIceOfForwardsSinceFaceoff',\n",
       " 'shootingTeamAverageTimeOnIceOfDefencemenSinceFaceoff',\n",
       " 'shootingTeamMaxTimeOnIceSinceFaceoff',\n",
       " 'shootingTeamMaxTimeOnIceOfForwardsSinceFaceoff',\n",
       " 'shootingTeamMaxTimeOnIceOfDefencemenSinceFaceoff',\n",
       " 'shootingTeamMinTimeOnIceSinceFaceoff',\n",
       " 'shootingTeamMinTimeOnIceOfForwardsSinceFaceoff',\n",
       " 'shootingTeamMinTimeOnIceOfDefencemenSinceFaceoff',\n",
       " 'defendingTeamForwardsOnIce',\n",
       " 'defendingTeamDefencemenOnIce',\n",
       " 'defendingTeamAverageTimeOnIce',\n",
       " 'defendingTeamAverageTimeOnIceOfForwards',\n",
       " 'defendingTeamAverageTimeOnIceOfDefencemen',\n",
       " 'defendingTeamMaxTimeOnIce',\n",
       " 'defendingTeamMaxTimeOnIceOfForwards',\n",
       " 'defendingTeamMaxTimeOnIceOfDefencemen',\n",
       " 'defendingTeamMinTimeOnIce',\n",
       " 'defendingTeamMinTimeOnIceOfForwards',\n",
       " 'defendingTeamMinTimeOnIceOfDefencemen',\n",
       " 'defendingTeamAverageTimeOnIceSinceFaceoff',\n",
       " 'defendingTeamAverageTimeOnIceOfForwardsSinceFaceoff',\n",
       " 'defendingTeamAverageTimeOnIceOfDefencemenSinceFaceoff',\n",
       " 'defendingTeamMaxTimeOnIceSinceFaceoff',\n",
       " 'defendingTeamMaxTimeOnIceOfForwardsSinceFaceoff',\n",
       " 'defendingTeamMaxTimeOnIceOfDefencemenSinceFaceoff',\n",
       " 'defendingTeamMinTimeOnIceSinceFaceoff',\n",
       " 'defendingTeamMinTimeOnIceOfForwardsSinceFaceoff',\n",
       " 'defendingTeamMinTimeOnIceOfDefencemenSinceFaceoff',\n",
       " 'offWing',\n",
       " 'arenaAdjustedShotDistance',\n",
       " 'arenaAdjustedXCord',\n",
       " 'arenaAdjustedYCord',\n",
       " 'arenaAdjustedYCordAbs',\n",
       " 'timeDifferenceSinceChange',\n",
       " 'averageRestDifference',\n",
       " 'xGoal',\n",
       " 'xFroze',\n",
       " 'xRebound',\n",
       " 'xPlayContinuedInZone',\n",
       " 'xPlayContinuedOutsideZone',\n",
       " 'xPlayStopped',\n",
       " 'xShotWasOnGoal',\n",
       " 'isHomeTeam',\n",
       " 'shotWasOnGoal',\n",
       " 'teamCode',\n",
       " 'arenaAdjustedXCordABS',\n",
       " 'skaterDifference',\n",
       " 'playerPositionIndexer',\n",
       " 'playerPositionEncoder',\n",
       " 'features',\n",
       " 'rawPrediction',\n",
       " 'probability',\n",
       " 'prediction']"
      ]
     },
     "execution_count": 44,
     "metadata": {},
     "output_type": "execute_result"
    }
   ],
   "source": [
    "predictions.columns"
   ]
  },
  {
   "cell_type": "code",
   "execution_count": 9,
   "metadata": {},
   "outputs": [
    {
     "data": {
      "text/plain": [
       "{Param(parent='LogisticRegression_4fa4ec7f1bb1', name='aggregationDepth', doc='suggested depth for treeAggregate (>= 2)'): 2,\n",
       " Param(parent='LogisticRegression_4fa4ec7f1bb1', name='family', doc='The name of family which is a description of the label distribution to be used in the model. Supported options: auto, binomial, multinomial.'): 'auto',\n",
       " Param(parent='LogisticRegression_4fa4ec7f1bb1', name='featuresCol', doc='features column name'): 'features',\n",
       " Param(parent='LogisticRegression_4fa4ec7f1bb1', name='fitIntercept', doc='whether to fit an intercept term'): True,\n",
       " Param(parent='LogisticRegression_4fa4ec7f1bb1', name='maxIter', doc='maximum number of iterations (>= 0)'): 100,\n",
       " Param(parent='LogisticRegression_4fa4ec7f1bb1', name='predictionCol', doc='prediction column name'): 'prediction',\n",
       " Param(parent='LogisticRegression_4fa4ec7f1bb1', name='probabilityCol', doc='Column name for predicted class conditional probabilities. Note: Not all models output well-calibrated probability estimates! These probabilities should be treated as confidences, not precise probabilities'): 'probability',\n",
       " Param(parent='LogisticRegression_4fa4ec7f1bb1', name='rawPredictionCol', doc='raw prediction (a.k.a. confidence) column name'): 'rawPrediction',\n",
       " Param(parent='LogisticRegression_4fa4ec7f1bb1', name='standardization', doc='whether to standardize the training features before fitting the model'): True,\n",
       " Param(parent='LogisticRegression_4fa4ec7f1bb1', name='threshold', doc='threshold in binary classification prediction, in range [0, 1]'): 0.5,\n",
       " Param(parent='LogisticRegression_4fa4ec7f1bb1', name='tol', doc='the convergence tolerance for iterative algorithms (>= 0)'): 1e-06,\n",
       " Param(parent='LogisticRegression_4fa4ec7f1bb1', name='elasticNetParam', doc='the ElasticNet mixing parameter, in range [0, 1]. For alpha = 0, the penalty is an L2 penalty. For alpha = 1, it is an L1 penalty'): 0.0,\n",
       " Param(parent='LogisticRegression_4fa4ec7f1bb1', name='labelCol', doc='label column name'): 'goal',\n",
       " Param(parent='LogisticRegression_4fa4ec7f1bb1', name='regParam', doc='regularization parameter (>= 0)'): 0.0}"
      ]
     },
     "execution_count": 9,
     "metadata": {},
     "output_type": "execute_result"
    }
   ],
   "source": [
    "cv_best_lr.extractParamMap()"
   ]
  },
  {
   "cell_type": "code",
   "execution_count": 7,
   "metadata": {},
   "outputs": [
    {
     "name": "stdout",
     "output_type": "stream",
     "text": [
      "+--------------------+\n",
      "|         probability|\n",
      "+--------------------+\n",
      "|[0.95282700887131...|\n",
      "|[0.97289266656632...|\n",
      "|[0.97538017600326...|\n",
      "|[0.96099172149719...|\n",
      "|[0.96153512065908...|\n",
      "+--------------------+\n",
      "only showing top 5 rows\n",
      "\n"
     ]
    }
   ],
   "source": [
    "xG.select('probability').show(5)"
   ]
  },
  {
   "cell_type": "code",
   "execution_count": 54,
   "metadata": {},
   "outputs": [],
   "source": [
    "xG = best_lr.transform(piped_data)\n",
    "\n",
    "def get_xGoal(row):\n",
    "    return row[1].item()\n",
    "\n",
    "udf_get_xGoal = func.udf(get_xGoal,DoubleType())\n",
    "\n",
    "xG = xG.withColumn('xGoalPred',udf_get_xGoal(xG.select('probability')[0]))"
   ]
  },
  {
   "cell_type": "code",
   "execution_count": 55,
   "metadata": {},
   "outputs": [],
   "source": [
    "result = xG.filter('skaterDifference=0 AND shootingTeamForwardsOnIce+shootingTeamDefencemenOnIce=5').groupBy('shooterName','shooterPlayerId','season').agg({'xGoalPred':'sum'}).sort('sum(xGoalPred)',ascending=False)"
   ]
  },
  {
   "cell_type": "code",
   "execution_count": 56,
   "metadata": {},
   "outputs": [
    {
     "name": "stdout",
     "output_type": "stream",
     "text": [
      "+-----------------+---------------+------+------------------+\n",
      "|      shooterName|shooterPlayerId|season|    sum(xGoalPred)|\n",
      "+-----------------+---------------+------+------------------+\n",
      "|    Alex Ovechkin|        8471214|  2008|35.783767478299744|\n",
      "|    Alex Ovechkin|        8471214|  2007| 30.29776217049168|\n",
      "|    Alex Ovechkin|        8471214|  2017|28.234854057280614|\n",
      "|       Eric Staal|        8470595|  2008|27.915661981138122|\n",
      "|Henrik Zetterberg|        8468083|  2007| 26.43356825682126|\n",
      "|    Alex Ovechkin|        8471214|  2014|26.385579989517183|\n",
      "|      Brent Burns|        8470613|  2015|25.160681705823734|\n",
      "|    Alex Ovechkin|        8471214|  2009|24.411166033552515|\n",
      "|     Marian Hossa|        8466148|  2008|24.196189135171608|\n",
      "|    Alex Ovechkin|        8471214|  2010| 24.18904021550476|\n",
      "|    Alex Ovechkin|        8471214|  2015|23.982680733302757|\n",
      "|       Timo Meier|        8478414|  2018|23.841017600195162|\n",
      "|      Brent Burns|        8470613|  2017|23.776273658737196|\n",
      "|      Zach Parise|        8470610|  2008|23.461562517114714|\n",
      "|   Max Pacioretty|        8474157|  2014|23.259130032408695|\n",
      "|      Zach Parise|        8470610|  2009|  23.1493918765706|\n",
      "|    Patrick Sharp|        8469544|  2013| 23.13046289550727|\n",
      "|     Evander Kane|        8475169|  2018|23.088205453802814|\n",
      "|        Rick Nash|        8470041|  2014|23.038472829723897|\n",
      "|Henrik Zetterberg|        8468083|  2008| 23.01839057549957|\n",
      "|    Alex Ovechkin|        8471214|  2011| 22.84729896611743|\n",
      "|     Daniel Sedin|        8467875|  2010|22.826717038973058|\n",
      "| Viktor Arvidsson|        8478042|  2016|22.561027734144915|\n",
      "|Brendan Gallagher|        8475848|  2018|22.488786460594437|\n",
      "|      Jeff Carter|        8470604|  2010| 22.47241534253134|\n",
      "+-----------------+---------------+------+------------------+\n",
      "only showing top 25 rows\n",
      "\n"
     ]
    }
   ],
   "source": [
    "result.sort('sum(xGoalPred)',ascending=False).show(25)"
   ]
  },
  {
   "cell_type": "code",
   "execution_count": 58,
   "metadata": {},
   "outputs": [],
   "source": [
    "xG = best_lr.transform(piped_data)\n",
    "\n",
    "def get_xGoal(row):\n",
    "    return row[1].item()\n",
    "\n",
    "udf_get_xGoal = func.udf(get_xGoal,DoubleType())\n",
    "\n",
    "xG = xG.withColumn('xGoalPred',udf_get_xGoal(xG.select('probability')[0]))"
   ]
  },
  {
   "cell_type": "code",
   "execution_count": 59,
   "metadata": {},
   "outputs": [],
   "source": [
    "result = xG.filter('skaterDifference=0 AND shootingTeamForwardsOnIce+shootingTeamDefencemenOnIce=5').groupBy('shooterName','shooterPlayerId','season').agg({'xGoalPred':'sum'}).sort('sum(xGoalPred)',ascending=False)"
   ]
  },
  {
   "cell_type": "code",
   "execution_count": 60,
   "metadata": {},
   "outputs": [
    {
     "name": "stdout",
     "output_type": "stream",
     "text": [
      "+-----------------+---------------+------+------------------+\n",
      "|      shooterName|shooterPlayerId|season|    sum(xGoalPred)|\n",
      "+-----------------+---------------+------+------------------+\n",
      "|    Alex Ovechkin|        8471214|  2008|35.783767478299744|\n",
      "|    Alex Ovechkin|        8471214|  2007| 30.29776217049168|\n",
      "|    Alex Ovechkin|        8471214|  2017|28.234854057280614|\n",
      "|       Eric Staal|        8470595|  2008|27.915661981138122|\n",
      "|Henrik Zetterberg|        8468083|  2007| 26.43356825682126|\n",
      "|    Alex Ovechkin|        8471214|  2014|26.385579989517183|\n",
      "|      Brent Burns|        8470613|  2015|25.160681705823734|\n",
      "|    Alex Ovechkin|        8471214|  2009|24.411166033552515|\n",
      "|     Marian Hossa|        8466148|  2008|24.196189135171608|\n",
      "|    Alex Ovechkin|        8471214|  2010| 24.18904021550476|\n",
      "|    Alex Ovechkin|        8471214|  2015|23.982680733302757|\n",
      "|       Timo Meier|        8478414|  2018|23.841017600195162|\n",
      "|      Brent Burns|        8470613|  2017|23.776273658737196|\n",
      "|      Zach Parise|        8470610|  2008|23.461562517114714|\n",
      "|   Max Pacioretty|        8474157|  2014|23.259130032408695|\n",
      "|      Zach Parise|        8470610|  2009|  23.1493918765706|\n",
      "|    Patrick Sharp|        8469544|  2013| 23.13046289550727|\n",
      "|     Evander Kane|        8475169|  2018|23.088205453802814|\n",
      "|        Rick Nash|        8470041|  2014|23.038472829723897|\n",
      "|Henrik Zetterberg|        8468083|  2008| 23.01839057549957|\n",
      "|    Alex Ovechkin|        8471214|  2011| 22.84729896611743|\n",
      "|     Daniel Sedin|        8467875|  2010|22.826717038973058|\n",
      "| Viktor Arvidsson|        8478042|  2016|22.561027734144915|\n",
      "|Brendan Gallagher|        8475848|  2018|22.488786460594437|\n",
      "|      Jeff Carter|        8470604|  2010| 22.47241534253134|\n",
      "+-----------------+---------------+------+------------------+\n",
      "only showing top 25 rows\n",
      "\n"
     ]
    }
   ],
   "source": [
    "result.sort('sum(xGoalPred)',ascending=False).show(25)"
   ]
  },
  {
   "cell_type": "code",
   "execution_count": 26,
   "metadata": {
    "scrolled": true
   },
   "outputs": [
    {
     "name": "stdout",
     "output_type": "stream",
     "text": [
      "+-------------+---------------+------+------------------+\n",
      "|  shooterName|shooterPlayerId|season|    sum(xGoalPred)|\n",
      "+-------------+---------------+------+------------------+\n",
      "|Alex Ovechkin|        8471214|  2008|33.827255101227664|\n",
      "|Alex Ovechkin|        8471214|  2017| 30.22094161889863|\n",
      "|Alex Ovechkin|        8471214|  2007|28.852769501283888|\n",
      "|Alex Ovechkin|        8471214|  2014|25.286749934223458|\n",
      "|Alex Ovechkin|        8471214|  2015|24.227578888874504|\n",
      "|Alex Ovechkin|        8471214|  2010|23.684240378194218|\n",
      "|Alex Ovechkin|        8471214|  2009|22.688682775987218|\n",
      "|Alex Ovechkin|        8471214|  2011| 21.90472505923295|\n",
      "|Alex Ovechkin|        8471214|  2016|21.326990707115755|\n",
      "|Alex Ovechkin|        8471214|  2018|19.774078894199647|\n",
      "|Alex Ovechkin|        8471214|  2013|17.490679643872134|\n",
      "|Alex Ovechkin|        8471214|  2012|14.351561710830326|\n",
      "+-------------+---------------+------+------------------+\n",
      "\n"
     ]
    }
   ],
   "source": [
    "result.filter('shooterPlayerId=8471214').show()"
   ]
  }
 ],
 "metadata": {
  "kernelspec": {
   "display_name": "Python [conda env:retailProject]",
   "language": "python",
   "name": "conda-env-retailProject-py"
  },
  "language_info": {
   "codemirror_mode": {
    "name": "ipython",
    "version": 3
   },
   "file_extension": ".py",
   "mimetype": "text/x-python",
   "name": "python",
   "nbconvert_exporter": "python",
   "pygments_lexer": "ipython3",
   "version": "3.7.5"
  }
 },
 "nbformat": 4,
 "nbformat_minor": 2
}
